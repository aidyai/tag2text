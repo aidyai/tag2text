{
  "nbformat": 4,
  "nbformat_minor": 0,
  "metadata": {
    "colab": {
      "provenance": [],
      "authorship_tag": "ABX9TyPb6Xrfdyc8Xyy1SOBUxOaX",
      "include_colab_link": true
    },
    "kernelspec": {
      "name": "python3",
      "display_name": "Python 3"
    },
    "language_info": {
      "name": "python"
    }
  },
  "cells": [
    {
      "cell_type": "markdown",
      "metadata": {
        "id": "view-in-github",
        "colab_type": "text"
      },
      "source": [
        "<a href=\"https://colab.research.google.com/github/aidyai/tag2text/blob/main/ram/nb/chroma.ipynb\" target=\"_parent\"><img src=\"https://colab.research.google.com/assets/colab-badge.svg\" alt=\"Open In Colab\"/></a>"
      ]
    },
    {
      "cell_type": "code",
      "source": [
        "import torch\n",
        "import numpy as np"
      ],
      "metadata": {
        "id": "FLBRlbDtni78"
      },
      "execution_count": 4,
      "outputs": []
    },
    {
      "cell_type": "code",
      "source": [
        "caption = [ \"sierra looked stunning in this top and this skirt while performing with person at their former university\", \"the top and pants are seen on stage at a concert\" ]\n",
        "union_label_id = [ 2915, 3852, 1068, 16, 2163, 4439, 1400, 4317, 3966, 2975 ]\n",
        "img_path = \"conceptual-captions/train/imgs/1_3239086386\"\n",
        "parse_label_id = [ [ 1400, 2163, 4317, 2975 ], [ 2915, 3852, 1068, 2975 ] ]"
      ],
      "metadata": {
        "id": "mWJyZO1Cnklz"
      },
      "execution_count": 7,
      "outputs": []
    },
    {
      "cell_type": "code",
      "source": [
        "class_num = 4585\n",
        "num = union_label_id\n",
        "image_tag = np.zeros([class_num])\n",
        "image_tag[num] = 3\n",
        "image_tag = torch.tensor(image_tag, dtype = torch.long)\n"
      ],
      "metadata": {
        "id": "cjpbNCRDKbZD"
      },
      "execution_count": 17,
      "outputs": []
    },
    {
      "cell_type": "code",
      "source": [
        "import torch\n",
        "\n",
        "# Assuming you have a tensor, for example:\n",
        "#tensor_example = torch.arange(10000)\n",
        "image_tag = torch.tensor(image_tag, dtype = torch.long)\n",
        "\n",
        "# Increase the printing options to display the entire tensor\n",
        "torch.set_printoptions(threshold=len(image_tag))\n",
        "\n",
        "# Print the entire value\n",
        "print(image_tag)\n",
        "print(image_tag.size())\n",
        "print(image_tag.shape)\n"
      ],
      "metadata": {
        "id": "y30Ns68opG7E"
      },
      "execution_count": null,
      "outputs": []
    },
    {
      "cell_type": "code",
      "source": [
        "numpy_array = image_tag.numpy()\n",
        "\n",
        "# Print the entire value\n",
        "print(numpy_array)"
      ],
      "metadata": {
        "colab": {
          "base_uri": "https://localhost:8080/"
        },
        "id": "sDrUXhI1oMXM",
        "outputId": "de2aee52-2845-4e02-d3c3-b49cac8cbe6b"
      },
      "execution_count": 12,
      "outputs": [
        {
          "output_type": "stream",
          "name": "stdout",
          "text": [
            "[0 0 0 ... 0 0 0]\n"
          ]
        }
      ]
    },
    {
      "cell_type": "code",
      "source": [],
      "metadata": {
        "id": "03evB6aiq_2p"
      },
      "execution_count": null,
      "outputs": []
    },
    {
      "cell_type": "code",
      "source": [
        "#ann = self.ann[index]\n",
        "\n",
        "\n",
        "caption_index = np.random.randint(0, len(captions))\n",
        "\n",
        "#caption = pre_caption(ann['caption'][caption_index],30)\n",
        "\n",
        "num = parse_label_id[caption_index]\n",
        "parse_tag = np.zeros([class_num])\n",
        "parse_tag[num] = 1\n",
        "parse_tag = torch.tensor(parse_tag, dtype = torch.long)"
      ],
      "metadata": {
        "id": "QcVi2blxobdk"
      },
      "execution_count": 23,
      "outputs": []
    },
    {
      "cell_type": "code",
      "source": [
        "# Increase the printing options to display the entire tensor\n",
        "torch.set_printoptions(threshold=len(image_tag))\n",
        "\n",
        "# Print the entire value\n",
        "print(image_tag)\n",
        "print(image_tag.size())\n",
        "print(image_tag.shape)"
      ],
      "metadata": {
        "id": "YqcyFqFVsrrc"
      },
      "execution_count": null,
      "outputs": []
    },
    {
      "cell_type": "code",
      "source": [
        "import numpy as np\n",
        "\n",
        "# Assume ann['caption'] is a list of captions\n",
        "captions = [\"A beautiful sunset\", \"Adventurous hiking\", \"Delicious food\", \"City skyline at night\"]\n",
        "\n",
        "# Generate a random index\n",
        "caption_index = np.random.randint(0, len(captions))\n",
        "\n",
        "# Access the caption using the random index\n",
        "random_caption = captions[caption_index]\n",
        "\n",
        "# Display the results\n",
        "print(\"Randomly Selected Caption Index:\", caption_index)\n",
        "print(\"Randomly Selected Caption:\", random_caption)"
      ],
      "metadata": {
        "colab": {
          "base_uri": "https://localhost:8080/"
        },
        "id": "62L93UU-rs8W",
        "outputId": "a5659fab-ca25-4229-a7b8-f7ec44cd1294"
      },
      "execution_count": 22,
      "outputs": [
        {
          "output_type": "stream",
          "name": "stdout",
          "text": [
            "Randomly Selected Caption Index: 3\n",
            "Randomly Selected Caption: City skyline at night\n"
          ]
        }
      ]
    },
    {
      "cell_type": "code",
      "source": [],
      "metadata": {
        "id": "htJfg5ntrter"
      },
      "execution_count": null,
      "outputs": []
    }
  ]
}